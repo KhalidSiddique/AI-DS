{
 "cells": [
  {
   "cell_type": "markdown",
   "id": "12c8b2c1",
   "metadata": {},
   "source": [
    "# 1.\tCheck Discount Eligibility\n",
    "Write a program to check if a customer is eligible for a discount. If the total purchase is more than $100, apply a 10% discount and display the final price. Otherwise, display the total price as it is.\n"
   ]
  },
  {
   "cell_type": "code",
   "execution_count": 2,
   "id": "1f48211f",
   "metadata": {},
   "outputs": [
    {
     "name": "stdout",
     "output_type": "stream",
     "text": [
      "Enter the bill amound: 45\n",
      "Your payable amount is 45\n"
     ]
    }
   ],
   "source": [
    "totalPurchase = int(input(\"Enter the bill amount: \"))\n",
    "if(totalPurchase > 100):\n",
    "    print(f\"Your payable amount is {totalPurchase*0.90}\")\n",
    "else:\n",
    "    print(f\"Your payable amount is {totalPurchase}\")"
   ]
  },
  {
   "cell_type": "markdown",
   "id": "8880a315",
   "metadata": {},
   "source": [
    "2.\tCalculate Bulk Discount\n",
    "If a customer buys more than 5 items, apply a 15% discount on the total price. Otherwise, no discount is applied. Display the total price.\n"
   ]
  },
  {
   "cell_type": "code",
   "execution_count": 14,
   "id": "5a521b04",
   "metadata": {},
   "outputs": [
    {
     "name": "stdout",
     "output_type": "stream",
     "text": [
      "('butter', 75)\n",
      "('milk', 100)\n",
      "('egg', 30)\n",
      "('bread', 80)\n",
      "('yogurd', 150)\n",
      "('cream', 200)\n",
      "press G to generate invoice\n",
      "What item do you want?milk\n",
      "What item do you want?egg\n",
      "What item do you want?butter\n",
      "What item do you want?g\n",
      "Your payable amount is 205\n"
     ]
    }
   ],
   "source": [
    "items = []\n",
    "availableItems = {\"butter\":75,\"milk\":100,\"egg\":30,\"bread\":80,\"yogurd\":150,\"cream\":200}\n",
    "flag = True\n",
    "for a in availableItems.items():\n",
    "    print(a)\n",
    "print(\"press G to generate invoice\")\n",
    "while(flag):\n",
    "    item = input(\"What item do you want?\").lower()\n",
    "    if(item in availableItems):\n",
    "        items.append(availableItems[item])\n",
    "    elif(item == 'g'):\n",
    "        flag=False\n",
    "        break\n",
    "    else:\n",
    "        print(\"this item is not availabe is the store\")\n",
    "    \n",
    "        \n",
    "s = 0\n",
    "for i in items:\n",
    "    s += i\n",
    "if(len(items)>5):\n",
    "    print(f\"Your payable amount is {s*0.85}\")\n",
    "else:\n",
    "    print(f\"Your payable amount is {s}\")\n",
    "    "
   ]
  },
  {
   "cell_type": "markdown",
   "id": "3d719620",
   "metadata": {},
   "source": [
    "3.\tMembership Discount\n",
    "Check if the customer is a member (is_member = True). Members get a 20% discount; non-members get a 5% discount. Calculate and print the discounted price.\n"
   ]
  },
  {
   "cell_type": "code",
   "execution_count": 18,
   "id": "9aeca48d",
   "metadata": {},
   "outputs": [
    {
     "name": "stdout",
     "output_type": "stream",
     "text": [
      "You have got the discount of Rs. 250.0\n"
     ]
    }
   ],
   "source": [
    "isMember = False\n",
    "fees = 5000\n",
    "if(isMember):\n",
    "    print(f\"You have got the discount of Rs. {fees*0.20}\")\n",
    "else:\n",
    "    print(f\"You have got the discount of Rs. {fees*0.05}\")\n",
    "    "
   ]
  },
  {
   "cell_type": "markdown",
   "id": "5a1ae9e6",
   "metadata": {},
   "source": [
    "4.\tSeasonal Sale\n",
    "If today is a holiday (is_holiday = True), apply a 25% discount; otherwise, apply a 10% discount. Calculate the price after discount.\n"
   ]
  },
  {
   "cell_type": "code",
   "execution_count": 20,
   "id": "3e67eddd",
   "metadata": {},
   "outputs": [
    {
     "name": "stdout",
     "output_type": "stream",
     "text": [
      "Your payable amount is 4950.0\n"
     ]
    }
   ],
   "source": [
    "isHoliday = False\n",
    "price = 5500\n",
    "if(isHoliday):\n",
    "    print(f\"Your payable amount is {price*0.75}\")\n",
    "else:\n",
    "    print(f\"Your payable amount is {price*0.90}\")"
   ]
  },
  {
   "cell_type": "markdown",
   "id": "9489fb79",
   "metadata": {},
   "source": [
    "5.\tBuy-One-Get-One-Free\n",
    "If a customer buys an even number of items, they get half of them for free. Otherwise, they pay for all. Calculate the number of items the customer has to pay for.\n"
   ]
  },
  {
   "cell_type": "code",
   "execution_count": 25,
   "id": "cdd5e001",
   "metadata": {},
   "outputs": [
    {
     "name": "stdout",
     "output_type": "stream",
     "text": [
      "How many items you purchased ? 4\n",
      "You have bought 4 and you just have to pay for 2\n"
     ]
    }
   ],
   "source": [
    "items = int(input(\"How many items you purchased? \"))\n",
    "if(items%2==0):\n",
    "    pay_for = items // 2\n",
    "    print(f\"You have bought {items} and you just have to pay for {pay_for}\")\n",
    "else:\n",
    "    print(f\"You have to pay for {items}\")"
   ]
  },
  {
   "cell_type": "code",
   "execution_count": null,
   "id": "48def138",
   "metadata": {},
   "outputs": [],
   "source": []
  }
 ],
 "metadata": {
  "kernelspec": {
   "display_name": "Python 3 (ipykernel)",
   "language": "python",
   "name": "python3"
  },
  "language_info": {
   "codemirror_mode": {
    "name": "ipython",
    "version": 3
   },
   "file_extension": ".py",
   "mimetype": "text/x-python",
   "name": "python",
   "nbconvert_exporter": "python",
   "pygments_lexer": "ipython3",
   "version": "3.10.9"
  }
 },
 "nbformat": 4,
 "nbformat_minor": 5
}
