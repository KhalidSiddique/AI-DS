{
 "cells": [
  {
   "cell_type": "markdown",
   "id": "a45baa4d",
   "metadata": {},
   "source": [
    "1.Write a program that accepts a string from user. Your program should count and display number of \n",
    "vowels in that string. "
   ]
  },
  {
   "cell_type": "code",
   "execution_count": 8,
   "id": "ce385cea",
   "metadata": {},
   "outputs": [
    {
     "name": "stdout",
     "output_type": "stream",
     "text": [
      "Write a text here: welcome\n",
      "number of vowel:  3\n"
     ]
    }
   ],
   "source": [
    "text = input(\"Write a text here: \")\n",
    "count = 0\n",
    "for ch in text:\n",
    "    if('a'==ch or 'e'==ch or 'i'==ch or 'o'==ch or 'u'==ch):\n",
    "        count += 1\n",
    "print(\"number of vowel: \",count)"
   ]
  },
  {
   "cell_type": "markdown",
   "id": "c54dea14",
   "metadata": {},
   "source": [
    "2. Write a program that reads a string from keyboard and display: \n",
    "* The number of uppercase letters in the string \n",
    "* The number of lowercase letters in the string \n",
    "* The number of digits in the string \n",
    "* The number of whitespace characters in the string "
   ]
  },
  {
   "cell_type": "code",
   "execution_count": 21,
   "id": "d3970cca",
   "metadata": {},
   "outputs": [
    {
     "name": "stdout",
     "output_type": "stream",
     "text": [
      "Write a text here: my Name is 80s\n",
      "upperLetter = 1\n",
      "lowerLetter = 8\n",
      "digits = 2\n",
      "space = 3\n"
     ]
    }
   ],
   "source": [
    "text = input(\"Write a text here: \")\n",
    "upper=0\n",
    "lower=0\n",
    "digit=0\n",
    "space=0\n",
    "for ch in text:\n",
    "    if(ch.isupper()):\n",
    "        upper += 1\n",
    "    elif(ch.islower()):\n",
    "        lower += 1\n",
    "    elif(ch.isdigit()):\n",
    "        digit+=1\n",
    "    elif(ch == \" \"):\n",
    "        space += 1\n",
    "print(f\"upperLetter = {upper}\\nlowerLetter = {lower}\\ndigits = {digit}\\nspace = {space}\")\n",
    "        "
   ]
  },
  {
   "cell_type": "markdown",
   "id": "074c28f2",
   "metadata": {},
   "source": [
    " 3. Write a Python program that accepts a string from user. Your program should create and display a \n",
    "new string where the first and last characters have been exchanged. "
   ]
  },
  {
   "cell_type": "code",
   "execution_count": 29,
   "id": "51b9414c",
   "metadata": {},
   "outputs": [
    {
     "name": "stdout",
     "output_type": "stream",
     "text": [
      "Hello  ->  oellH\n",
      "Hello\n"
     ]
    }
   ],
   "source": [
    "text = \"Hello\"\n",
    "print(text,\" -> \",text[-1]+text[1:-1]+text[0])"
   ]
  },
  {
   "cell_type": "markdown",
   "id": "9e38a547",
   "metadata": {},
   "source": [
    "4. Write a Python program that accepts a string from user. Your program should create a new string in \n",
    "reverse of first string and display it. "
   ]
  },
  {
   "cell_type": "code",
   "execution_count": 30,
   "id": "d2ccb2f3",
   "metadata": {},
   "outputs": [
    {
     "name": "stdout",
     "output_type": "stream",
     "text": [
      "MAXE\n"
     ]
    }
   ],
   "source": [
    "text = \"EXAM\"\n",
    "reversedString = text[::-1]\n",
    "print(reversedString)"
   ]
  },
  {
   "cell_type": "code",
   "execution_count": 32,
   "id": "ef3ce3f4",
   "metadata": {},
   "outputs": [
    {
     "name": "stdout",
     "output_type": "stream",
     "text": [
      "xamination202589e\n"
     ]
    }
   ],
   "source": [
    "text = \"examination202589\"\n",
    "shifLeft = text[1:]+text[0]\n",
    "print(shifLeft)"
   ]
  },
  {
   "cell_type": "markdown",
   "id": "339a66b8",
   "metadata": {},
   "source": [
    " 6. Write a program that asks the user to input his name and print its initials. Assuming that the user \n",
    "always types first name, middle name and last name and does not include any unnecessary spaces. \n",
    "For example, if the user enters Ajay Kumar Garg the program should display A. K. G. \n",
    "Note:Don't use split() method"
   ]
  },
  {
   "cell_type": "code",
   "execution_count": 34,
   "id": "2f712c2b",
   "metadata": {},
   "outputs": [
    {
     "name": "stdout",
     "output_type": "stream",
     "text": [
      "Enter your nameSameer Malik Ali\n",
      "S. M. A. "
     ]
    }
   ],
   "source": [
    "fullName = input(\"Enter your name\")\n",
    "for ch in fullName:\n",
    "    if(ch.isupper()):\n",
    "        print(ch,end=\". \")"
   ]
  },
  {
   "cell_type": "markdown",
   "id": "d9c91b7e",
   "metadata": {},
   "source": [
    "7. A palindrome is a string that reads the same backward as forward. For example, the words dad, \n",
    "madam and radar are all palindromes. Write a programs that determines whether the string is a \n",
    "palindrome. "
   ]
  },
  {
   "cell_type": "code",
   "execution_count": 36,
   "id": "d6d0dc7f",
   "metadata": {},
   "outputs": [
    {
     "name": "stdout",
     "output_type": "stream",
     "text": [
      "Enter the word to check either it is palindrome or notrad\n",
      "rad is not palindrome\n"
     ]
    }
   ],
   "source": [
    "text = input(\"Enter the word to check either it is palindrome or not\")\n",
    "palCheck = text[::-1]\n",
    "if(text == palCheck):\n",
    "    print(f\"{text} is palindrome\")\n",
    "else:\n",
    "    print(f\"{text} is not palindrome\")"
   ]
  },
  {
   "cell_type": "markdown",
   "id": "9da2f558",
   "metadata": {},
   "source": [
    "8. Write a program that display following output: \n",
    "SHIFT \n",
    "HIFTS \n",
    "IFTSH \n",
    "FTSHI \n",
    "TSHIF \n",
    "SHIFT \n"
   ]
  },
  {
   "cell_type": "code",
   "execution_count": 42,
   "id": "16a27f34",
   "metadata": {},
   "outputs": [
    {
     "name": "stdout",
     "output_type": "stream",
     "text": [
      "SHIFT\n",
      "HIFTS\n",
      "IFTSH\n",
      "FTSHI\n",
      "TSHIF\n",
      "SHIFT\n"
     ]
    }
   ],
   "source": [
    "text = \"SHIFT\"\n",
    "for i,ch in enumerate(text):\n",
    "    print(text[i:]+text[:--i])\n",
    "print(text)"
   ]
  },
  {
   "cell_type": "markdown",
   "id": "24621c10",
   "metadata": {},
   "source": [
    "9. Write a program in python that accepts a string to setup a passwords. Your entered password must \n",
    "meet the following requirements: \n",
    "The password must be at least eight characters long. \n",
    "It must contain at least one uppercase letter. \n",
    "It must contain at least one lowercase letter. \n",
    "It must contain at least one numeric digit. \n",
    "Your program should should perform this validation."
   ]
  },
  {
   "cell_type": "code",
   "execution_count": 53,
   "id": "4605e67a",
   "metadata": {},
   "outputs": [
    {
     "name": "stdout",
     "output_type": "stream",
     "text": [
      "Password is valid as per standards.\n"
     ]
    }
   ],
   "source": [
    "password = \"sAm33r1ee\"\n",
    "\n",
    "# Check if the password meets all the required conditions\n",
    "if len(password) < 8:\n",
    "    print(\"Password must be at least 8 characters long.\")\n",
    "elif not any(char.isupper() for char in password):\n",
    "    print(\"Password must contain at least one uppercase letter.\")\n",
    "elif not any(char.islower() for char in password):\n",
    "    print(\"Password must contain at least one lowercase letter.\")\n",
    "elif not any(char.isdigit() for char in password):\n",
    "    print(\"Password must contain at least one numeric digit.\")\n",
    "else:\n",
    "    print(\"Password is valid as per standards.\")\n"
   ]
  },
  {
   "cell_type": "code",
   "execution_count": null,
   "id": "dc21b248",
   "metadata": {},
   "outputs": [],
   "source": []
  }
 ],
 "metadata": {
  "kernelspec": {
   "display_name": "Python 3 (ipykernel)",
   "language": "python",
   "name": "python3"
  },
  "language_info": {
   "codemirror_mode": {
    "name": "ipython",
    "version": 3
   },
   "file_extension": ".py",
   "mimetype": "text/x-python",
   "name": "python",
   "nbconvert_exporter": "python",
   "pygments_lexer": "ipython3",
   "version": "3.10.9"
  }
 },
 "nbformat": 4,
 "nbformat_minor": 5
}
